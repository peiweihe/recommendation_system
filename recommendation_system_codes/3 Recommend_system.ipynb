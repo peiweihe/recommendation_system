{
 "cells": [
  {
   "cell_type": "code",
   "execution_count": 1,
   "metadata": {
    "collapsed": true
   },
   "outputs": [],
   "source": [
    "import pandas as pd\n",
    "import numpy as np\n",
    "import math"
   ]
  },
  {
   "cell_type": "markdown",
   "metadata": {},
   "source": [
    "# 1 Data Cleaning"
   ]
  },
  {
   "cell_type": "code",
   "execution_count": 2,
   "metadata": {
    "collapsed": true
   },
   "outputs": [],
   "source": [
    "artists = \"artists.dat\"\n",
    "tags = \"tags.txt\"\n",
    "user_artists = \"user_artists.dat\"\n",
    "user_friends = \"user_friends.dat\"\n",
    "user_taggedartists_timestamps = \"user_taggedartists-timestamps.dat\"\n",
    "user_taggedartists = \"user_taggedartists.dat\""
   ]
  },
  {
   "cell_type": "code",
   "execution_count": 3,
   "metadata": {
    "collapsed": true
   },
   "outputs": [],
   "source": [
    "total_table = pd.read_table(user_taggedartists)\n",
    "user_artists_df = pd.read_table(user_artists)\n",
    "tags_df = pd.read_table(tags,encoding = \"utf-8\")\n",
    "user_friends_df = pd.read_table(user_friends)\n",
    "artists_df = pd.read_table(artists)"
   ]
  },
  {
   "cell_type": "code",
   "execution_count": 4,
   "metadata": {
    "collapsed": false
   },
   "outputs": [],
   "source": [
    "user_artists_df.head()\n",
    "artists_df.columns = [\"artistID\",\"name\",\"url\",\"pictureURL\"]\n",
    "total_table = pd.merge(user_artists_df,artists_df,left_on = \"artistID\",right_on = \"artistID\")"
   ]
  },
  {
   "cell_type": "code",
   "execution_count": 5,
   "metadata": {
    "collapsed": true
   },
   "outputs": [],
   "source": [
    "df = total_table"
   ]
  },
  {
   "cell_type": "markdown",
   "metadata": {},
   "source": [
    "## Remove noise\n",
    "\n",
    "- ** Remove users whose frequent listening artists less than 25 **\n",
    "- ** Data from 92837 to 92533 **"
   ]
  },
  {
   "cell_type": "code",
   "execution_count": 6,
   "metadata": {
    "collapsed": true
   },
   "outputs": [],
   "source": [
    "g = df.groupby('userID') \n",
    "df = g.filter(lambda x: len(x) > 25)"
   ]
  },
  {
   "cell_type": "markdown",
   "metadata": {},
   "source": [
    "## Normalizing data\n",
    "As the listening frequencies of each users differ a lot from zero to 10 thousand, we try to normalize data in two ways:\n",
    ">**Deal it with bianry data**: Regard all weighted artists as one and unweighted as zero\n",
    "\n",
    ">**Normalized it with max value**:\n",
    ">- Weight data shows artists users often listen which means there only artists users like\n",
    ">- Use freq = weight(i)/max(weight)"
   ]
  },
  {
   "cell_type": "code",
   "execution_count": 7,
   "metadata": {
    "collapsed": false
   },
   "outputs": [
    {
     "name": "stderr",
     "output_type": "stream",
     "text": [
      "C:\\ProgramData\\Anaconda3\\lib\\site-packages\\ipykernel\\__main__.py:1: SettingWithCopyWarning: \n",
      "A value is trying to be set on a copy of a slice from a DataFrame.\n",
      "Try using .loc[row_indexer,col_indexer] = value instead\n",
      "\n",
      "See the caveats in the documentation: http://pandas.pydata.org/pandas-docs/stable/indexing.html#indexing-view-versus-copy\n",
      "  if __name__ == '__main__':\n",
      "C:\\ProgramData\\Anaconda3\\lib\\site-packages\\ipykernel\\__main__.py:2: SettingWithCopyWarning: \n",
      "A value is trying to be set on a copy of a slice from a DataFrame\n",
      "\n",
      "See the caveats in the documentation: http://pandas.pydata.org/pandas-docs/stable/indexing.html#indexing-view-versus-copy\n",
      "  from ipykernel import kernelapp as app\n",
      "C:\\ProgramData\\Anaconda3\\lib\\site-packages\\pandas\\core\\generic.py:4702: SettingWithCopyWarning: \n",
      "A value is trying to be set on a copy of a slice from a DataFrame\n",
      "\n",
      "See the caveats in the documentation: http://pandas.pydata.org/pandas-docs/stable/indexing.html#indexing-view-versus-copy\n",
      "  self._update_inplace(new_data)\n",
      "C:\\ProgramData\\Anaconda3\\lib\\site-packages\\IPython\\core\\interactiveshell.py:2881: SettingWithCopyWarning: \n",
      "A value is trying to be set on a copy of a slice from a DataFrame\n",
      "\n",
      "See the caveats in the documentation: http://pandas.pydata.org/pandas-docs/stable/indexing.html#indexing-view-versus-copy\n",
      "  exec(code_obj, self.user_global_ns, self.user_ns)\n"
     ]
    }
   ],
   "source": [
    "df[\"weight_a\"] = df[\"weight\"]\n",
    "df[\"weight_a\"][df[\"weight_a\"] > 0] = 1"
   ]
  },
  {
   "cell_type": "code",
   "execution_count": 8,
   "metadata": {
    "collapsed": false
   },
   "outputs": [
    {
     "name": "stderr",
     "output_type": "stream",
     "text": [
      "C:\\ProgramData\\Anaconda3\\lib\\site-packages\\ipykernel\\__main__.py:5: SettingWithCopyWarning: \n",
      "A value is trying to be set on a copy of a slice from a DataFrame.\n",
      "Try using .loc[row_indexer,col_indexer] = value instead\n",
      "\n",
      "See the caveats in the documentation: http://pandas.pydata.org/pandas-docs/stable/indexing.html#indexing-view-versus-copy\n",
      "C:\\ProgramData\\Anaconda3\\lib\\site-packages\\ipykernel\\__main__.py:6: SettingWithCopyWarning: \n",
      "A value is trying to be set on a copy of a slice from a DataFrame.\n",
      "Try using .loc[row_indexer,col_indexer] = value instead\n",
      "\n",
      "See the caveats in the documentation: http://pandas.pydata.org/pandas-docs/stable/indexing.html#indexing-view-versus-copy\n"
     ]
    },
    {
     "data": {
      "text/html": [
       "<div>\n",
       "<table border=\"1\" class=\"dataframe\">\n",
       "  <thead>\n",
       "    <tr style=\"text-align: right;\">\n",
       "      <th></th>\n",
       "      <th>userID</th>\n",
       "      <th>artistID</th>\n",
       "      <th>weight</th>\n",
       "      <th>name</th>\n",
       "      <th>url</th>\n",
       "      <th>pictureURL</th>\n",
       "      <th>weight_a</th>\n",
       "      <th>artist_ix</th>\n",
       "      <th>user_ix</th>\n",
       "    </tr>\n",
       "  </thead>\n",
       "  <tbody>\n",
       "    <tr>\n",
       "      <th>0</th>\n",
       "      <td>2</td>\n",
       "      <td>51</td>\n",
       "      <td>13883</td>\n",
       "      <td>Duran Duran</td>\n",
       "      <td>http://www.last.fm/music/Duran+Duran</td>\n",
       "      <td>http://userserve-ak.last.fm/serve/252/155668.jpg</td>\n",
       "      <td>1</td>\n",
       "      <td>45</td>\n",
       "      <td>0</td>\n",
       "    </tr>\n",
       "    <tr>\n",
       "      <th>1</th>\n",
       "      <td>4</td>\n",
       "      <td>51</td>\n",
       "      <td>228</td>\n",
       "      <td>Duran Duran</td>\n",
       "      <td>http://www.last.fm/music/Duran+Duran</td>\n",
       "      <td>http://userserve-ak.last.fm/serve/252/155668.jpg</td>\n",
       "      <td>1</td>\n",
       "      <td>45</td>\n",
       "      <td>2</td>\n",
       "    </tr>\n",
       "    <tr>\n",
       "      <th>2</th>\n",
       "      <td>27</td>\n",
       "      <td>51</td>\n",
       "      <td>85</td>\n",
       "      <td>Duran Duran</td>\n",
       "      <td>http://www.last.fm/music/Duran+Duran</td>\n",
       "      <td>http://userserve-ak.last.fm/serve/252/155668.jpg</td>\n",
       "      <td>1</td>\n",
       "      <td>45</td>\n",
       "      <td>24</td>\n",
       "    </tr>\n",
       "    <tr>\n",
       "      <th>3</th>\n",
       "      <td>28</td>\n",
       "      <td>51</td>\n",
       "      <td>10</td>\n",
       "      <td>Duran Duran</td>\n",
       "      <td>http://www.last.fm/music/Duran+Duran</td>\n",
       "      <td>http://userserve-ak.last.fm/serve/252/155668.jpg</td>\n",
       "      <td>1</td>\n",
       "      <td>45</td>\n",
       "      <td>25</td>\n",
       "    </tr>\n",
       "    <tr>\n",
       "      <th>4</th>\n",
       "      <td>62</td>\n",
       "      <td>51</td>\n",
       "      <td>528</td>\n",
       "      <td>Duran Duran</td>\n",
       "      <td>http://www.last.fm/music/Duran+Duran</td>\n",
       "      <td>http://userserve-ak.last.fm/serve/252/155668.jpg</td>\n",
       "      <td>1</td>\n",
       "      <td>45</td>\n",
       "      <td>58</td>\n",
       "    </tr>\n",
       "  </tbody>\n",
       "</table>\n",
       "</div>"
      ],
      "text/plain": [
       "   userID  artistID  weight         name  \\\n",
       "0       2        51   13883  Duran Duran   \n",
       "1       4        51     228  Duran Duran   \n",
       "2      27        51      85  Duran Duran   \n",
       "3      28        51      10  Duran Duran   \n",
       "4      62        51     528  Duran Duran   \n",
       "\n",
       "                                    url  \\\n",
       "0  http://www.last.fm/music/Duran+Duran   \n",
       "1  http://www.last.fm/music/Duran+Duran   \n",
       "2  http://www.last.fm/music/Duran+Duran   \n",
       "3  http://www.last.fm/music/Duran+Duran   \n",
       "4  http://www.last.fm/music/Duran+Duran   \n",
       "\n",
       "                                         pictureURL  weight_a  artist_ix  \\\n",
       "0  http://userserve-ak.last.fm/serve/252/155668.jpg         1         45   \n",
       "1  http://userserve-ak.last.fm/serve/252/155668.jpg         1         45   \n",
       "2  http://userserve-ak.last.fm/serve/252/155668.jpg         1         45   \n",
       "3  http://userserve-ak.last.fm/serve/252/155668.jpg         1         45   \n",
       "4  http://userserve-ak.last.fm/serve/252/155668.jpg         1         45   \n",
       "\n",
       "   user_ix  \n",
       "0        0  \n",
       "1        2  \n",
       "2       24  \n",
       "3       25  \n",
       "4       58  "
      ]
     },
     "execution_count": 8,
     "metadata": {},
     "output_type": "execute_result"
    }
   ],
   "source": [
    "unique_ids = sorted(set(df.artistID))\n",
    "unique_users = sorted(set(df.userID))\n",
    "artist_ix = {id:ix for (ix,id) in enumerate(unique_ids)}\n",
    "user_ix = {id:ix for (ix,id) in enumerate(unique_users)}\n",
    "df['artist_ix'] = df.artistID.map(artist_ix)\n",
    "df['user_ix'] = df.userID.map(user_ix)\n",
    "df.head()"
   ]
  },
  {
   "cell_type": "code",
   "execution_count": 9,
   "metadata": {
    "collapsed": false,
    "scrolled": true
   },
   "outputs": [
    {
     "name": "stderr",
     "output_type": "stream",
     "text": [
      "C:\\ProgramData\\Anaconda3\\lib\\site-packages\\ipykernel\\__main__.py:3: SettingWithCopyWarning: \n",
      "A value is trying to be set on a copy of a slice from a DataFrame.\n",
      "Try using .loc[row_indexer,col_indexer] = value instead\n",
      "\n",
      "See the caveats in the documentation: http://pandas.pydata.org/pandas-docs/stable/indexing.html#indexing-view-versus-copy\n",
      "  app.launch_new_instance()\n"
     ]
    },
    {
     "data": {
      "text/html": [
       "<div>\n",
       "<table border=\"1\" class=\"dataframe\">\n",
       "  <thead>\n",
       "    <tr style=\"text-align: right;\">\n",
       "      <th></th>\n",
       "      <th>userID</th>\n",
       "      <th>artistID</th>\n",
       "      <th>weight</th>\n",
       "      <th>name</th>\n",
       "      <th>url</th>\n",
       "      <th>pictureURL</th>\n",
       "      <th>weight_a</th>\n",
       "      <th>artist_ix</th>\n",
       "      <th>user_ix</th>\n",
       "      <th>freq</th>\n",
       "    </tr>\n",
       "  </thead>\n",
       "  <tbody>\n",
       "    <tr>\n",
       "      <th>0</th>\n",
       "      <td>2</td>\n",
       "      <td>51</td>\n",
       "      <td>13883</td>\n",
       "      <td>Duran Duran</td>\n",
       "      <td>http://www.last.fm/music/Duran+Duran</td>\n",
       "      <td>http://userserve-ak.last.fm/serve/252/155668.jpg</td>\n",
       "      <td>1</td>\n",
       "      <td>45</td>\n",
       "      <td>0</td>\n",
       "      <td>1.000000</td>\n",
       "    </tr>\n",
       "    <tr>\n",
       "      <th>1</th>\n",
       "      <td>4</td>\n",
       "      <td>51</td>\n",
       "      <td>228</td>\n",
       "      <td>Duran Duran</td>\n",
       "      <td>http://www.last.fm/music/Duran+Duran</td>\n",
       "      <td>http://userserve-ak.last.fm/serve/252/155668.jpg</td>\n",
       "      <td>1</td>\n",
       "      <td>45</td>\n",
       "      <td>2</td>\n",
       "      <td>0.045756</td>\n",
       "    </tr>\n",
       "    <tr>\n",
       "      <th>2</th>\n",
       "      <td>27</td>\n",
       "      <td>51</td>\n",
       "      <td>85</td>\n",
       "      <td>Duran Duran</td>\n",
       "      <td>http://www.last.fm/music/Duran+Duran</td>\n",
       "      <td>http://userserve-ak.last.fm/serve/252/155668.jpg</td>\n",
       "      <td>1</td>\n",
       "      <td>45</td>\n",
       "      <td>24</td>\n",
       "      <td>0.208333</td>\n",
       "    </tr>\n",
       "    <tr>\n",
       "      <th>3</th>\n",
       "      <td>28</td>\n",
       "      <td>51</td>\n",
       "      <td>10</td>\n",
       "      <td>Duran Duran</td>\n",
       "      <td>http://www.last.fm/music/Duran+Duran</td>\n",
       "      <td>http://userserve-ak.last.fm/serve/252/155668.jpg</td>\n",
       "      <td>1</td>\n",
       "      <td>45</td>\n",
       "      <td>25</td>\n",
       "      <td>0.370370</td>\n",
       "    </tr>\n",
       "    <tr>\n",
       "      <th>4</th>\n",
       "      <td>62</td>\n",
       "      <td>51</td>\n",
       "      <td>528</td>\n",
       "      <td>Duran Duran</td>\n",
       "      <td>http://www.last.fm/music/Duran+Duran</td>\n",
       "      <td>http://userserve-ak.last.fm/serve/252/155668.jpg</td>\n",
       "      <td>1</td>\n",
       "      <td>45</td>\n",
       "      <td>58</td>\n",
       "      <td>0.076323</td>\n",
       "    </tr>\n",
       "  </tbody>\n",
       "</table>\n",
       "</div>"
      ],
      "text/plain": [
       "   userID  artistID  weight         name  \\\n",
       "0       2        51   13883  Duran Duran   \n",
       "1       4        51     228  Duran Duran   \n",
       "2      27        51      85  Duran Duran   \n",
       "3      28        51      10  Duran Duran   \n",
       "4      62        51     528  Duran Duran   \n",
       "\n",
       "                                    url  \\\n",
       "0  http://www.last.fm/music/Duran+Duran   \n",
       "1  http://www.last.fm/music/Duran+Duran   \n",
       "2  http://www.last.fm/music/Duran+Duran   \n",
       "3  http://www.last.fm/music/Duran+Duran   \n",
       "4  http://www.last.fm/music/Duran+Duran   \n",
       "\n",
       "                                         pictureURL  weight_a  artist_ix  \\\n",
       "0  http://userserve-ak.last.fm/serve/252/155668.jpg         1         45   \n",
       "1  http://userserve-ak.last.fm/serve/252/155668.jpg         1         45   \n",
       "2  http://userserve-ak.last.fm/serve/252/155668.jpg         1         45   \n",
       "3  http://userserve-ak.last.fm/serve/252/155668.jpg         1         45   \n",
       "4  http://userserve-ak.last.fm/serve/252/155668.jpg         1         45   \n",
       "\n",
       "   user_ix      freq  \n",
       "0        0  1.000000  \n",
       "1        2  0.045756  \n",
       "2       24  0.208333  \n",
       "3       25  0.370370  \n",
       "4       58  0.076323  "
      ]
     },
     "execution_count": 9,
     "metadata": {},
     "output_type": "execute_result"
    }
   ],
   "source": [
    "def norm(values):\n",
    "    return values/values.max()\n",
    "df['freq'] = df.groupby('user_ix').weight.transform(norm)\n",
    "df.head()"
   ]
  },
  {
   "cell_type": "code",
   "execution_count": 10,
   "metadata": {
    "collapsed": true
   },
   "outputs": [],
   "source": [
    "#creat a dicitonary to store artists' information\n",
    "df2 =df\n",
    "artist_name = df2.set_index('artistID')['name'].to_dict()"
   ]
  },
  {
   "cell_type": "code",
   "execution_count": 11,
   "metadata": {
    "collapsed": true
   },
   "outputs": [],
   "source": [
    "df.to_pickle(\"user_data.pickle\")"
   ]
  },
  {
   "cell_type": "markdown",
   "metadata": {},
   "source": [
    "# 2 Memory-based model\n",
    ">Use svds to decompose and convert it to k=20 dimensions.\n",
    "\n",
    ">Use normalized frequency to predict the probability users would like the artisist ans recommend first 12 artists to user."
   ]
  },
  {
   "cell_type": "code",
   "execution_count": 12,
   "metadata": {
    "collapsed": false
   },
   "outputs": [],
   "source": [
    "from scipy.sparse import csc_matrix\n",
    "from scipy.sparse.linalg import svds\n",
    "def svd(df):\n",
    "    m = csc_matrix((df.freq,(df.user_ix,df.artist_ix)))\n",
    "    u,s,vt = svds(m,k=20)\n",
    "    pred = np.dot(np.dot(u,np.diag(s)),vt)\n",
    "    return pred"
   ]
  },
  {
   "cell_type": "code",
   "execution_count": 13,
   "metadata": {
    "collapsed": true
   },
   "outputs": [],
   "source": [
    "def artist_now(userID):\n",
    "    artist_ = df[df.userID==userID].sort_values(\"weight\",ascending=False)\n",
    "    music_now_list = artist_.head(40).name\n",
    "    return music_now_list.tolist()"
   ]
  },
  {
   "cell_type": "code",
   "execution_count": 14,
   "metadata": {
    "collapsed": true
   },
   "outputs": [],
   "source": [
    "def user_recommend1(userID,pred):\n",
    "    recommended = np.argsort(pred[user_ix.get(userID),:])[-12:]\n",
    "    recommendations_list = [artist_name.get(r) for r in recommended]\n",
    "    return recommendations_list"
   ]
  },
  {
   "cell_type": "code",
   "execution_count": 15,
   "metadata": {
    "collapsed": false,
    "scrolled": true
   },
   "outputs": [
    {
     "name": "stdout",
     "output_type": "stream",
     "text": [
      "Enter a new userID (chose a number below 2100):1196\n",
      "------------------------------\n",
      "Artists you like now:\n",
      "['Nirvana', 'Engenheiros do Hawaii', 'Puddle of Mudd', 'Foo Fighters', 'Soundgarden', 'Institute', 'Alice in Chains', 'System of a Down', 'Silverchair', 'Living Colour', 'P.O.D.', 'Bush', 'Paramore', 'Pearl Jam', 'Hoobastank', 'Nullset', 'Nickelback', 'Green Day', 'Alter Bridge', 'Rage Against the Machine', 'Evanescence', 'Red Hot Chili Peppers', 'Limp Bizkit', 'Audioslave', 'Meat Puppets', 'The Pretty Reckless', 'Pouca Vogal', 'Metallica', 'Mudhoney', 'The Offspring', '4 Non Blondes', 'Chevelle', 'Stone Temple Pilots', 'Weezer', 'Humberto Gessinger Trio', 'Capital Inicial', 'Pitty', 'Chris Cornell', 'SoundGarden | www.CdsCompletos.net', 'The Cure']\n",
      "------------------------------\n",
      "We recommend you these artists:\n",
      "['U2', 'Red Hot Chili Peppers', 'Yeong-wook Jo', 'Elton John', 'Hevia', 'The Boats', 'Shakira', 'DeVotchKa', 'Kate Nash', 'Tortoise', 'Funeral for a Friend', 'Kings of Leon']\n"
     ]
    }
   ],
   "source": [
    "usedID = int(input(\"Enter a new userID (chose a number below 2100):\"))\n",
    "print(\"-\"*30)\n",
    "a_now = artist_now(usedID)\n",
    "print(\"Artists you like now:\")\n",
    "print(a_now)\n",
    "\n",
    "pred = svd(df)\n",
    "recommendation = user_recommend1(usedID,pred)\n",
    "print(\"-\"*30)\n",
    "print(\"We recommend you these artists:\")\n",
    "print(recommendation)"
   ]
  },
  {
   "cell_type": "markdown",
   "metadata": {},
   "source": [
    "# 3 Tags-based recommendation system(Cosine Similarity)\n",
    ">Try to find recommendation artists according to tags.\n",
    "\n",
    ">If user A and user B give 50 tags to 50 artists individually and 49 tags are same, then we assume they have similar taste in music and recommend different set of both favorite artists to each other."
   ]
  },
  {
   "cell_type": "code",
   "execution_count": 20,
   "metadata": {
    "collapsed": true
   },
   "outputs": [],
   "source": [
    "pd.options.display.max_colwidth = 10000"
   ]
  },
  {
   "cell_type": "code",
   "execution_count": 21,
   "metadata": {
    "collapsed": true
   },
   "outputs": [],
   "source": [
    "#Setting a total table of merge 2 sub tables\n",
    "total_table = pd.read_table(user_taggedartists)\n",
    "user_artists_df = pd.read_table(user_artists)\n",
    "tags_df = pd.read_table(tags,encoding = \"utf-8\")\n",
    "user_friends_df = pd.read_table(user_friends)\n",
    "\n",
    "total_table.drop([\"day\",\"month\",\"year\"],axis = 1,inplace = True)\n",
    "total_table = pd.merge(total_table,tags_df,on = \"tagID\")\n",
    "\n",
    "def fun(word):\n",
    "    word = \"%s\" % ' '.join(word)\n",
    "    return word\n",
    "\n",
    "artist_tags = total_table.groupby(\"artistID\")[\"tagValue\"].apply(fun)\n",
    "\n",
    "list_word = []\n",
    "for i in artist_tags[0:]:\n",
    "    list_word.append(list(set(str.split(i))))\n",
    "    \n",
    "new_artist_tags = list(map(\" \".join,list_word))\n",
    "artist_tags_df = pd.DataFrame(artist_tags)\n",
    "artist_tags_df[\"tagValue\"] = new_artist_tags"
   ]
  },
  {
   "cell_type": "code",
   "execution_count": 22,
   "metadata": {
    "collapsed": false
   },
   "outputs": [
    {
     "name": "stderr",
     "output_type": "stream",
     "text": [
      "C:\\ProgramData\\Anaconda3\\lib\\site-packages\\ipykernel\\__main__.py:9: SettingWithCopyWarning: \n",
      "A value is trying to be set on a copy of a slice from a DataFrame\n",
      "\n",
      "See the caveats in the documentation: http://pandas.pydata.org/pandas-docs/stable/indexing.html#indexing-view-versus-copy\n"
     ]
    },
    {
     "data": {
      "text/html": [
       "<div>\n",
       "<table border=\"1\" class=\"dataframe\">\n",
       "  <thead>\n",
       "    <tr style=\"text-align: right;\">\n",
       "      <th></th>\n",
       "      <th>userID</th>\n",
       "      <th>artistID</th>\n",
       "      <th>tagValue</th>\n",
       "      <th>weight</th>\n",
       "    </tr>\n",
       "  </thead>\n",
       "  <tbody>\n",
       "    <tr>\n",
       "      <th>0</th>\n",
       "      <td>681</td>\n",
       "      <td>1</td>\n",
       "      <td>than lady better visual weeabo jrock j-rock gaga gothic kei japanese</td>\n",
       "      <td>NaN</td>\n",
       "    </tr>\n",
       "    <tr>\n",
       "      <th>1</th>\n",
       "      <td>1545</td>\n",
       "      <td>1</td>\n",
       "      <td>than lady better visual weeabo jrock j-rock gaga gothic kei japanese</td>\n",
       "      <td>NaN</td>\n",
       "    </tr>\n",
       "    <tr>\n",
       "      <th>2</th>\n",
       "      <td>1730</td>\n",
       "      <td>1</td>\n",
       "      <td>than lady better visual weeabo jrock j-rock gaga gothic kei japanese</td>\n",
       "      <td>NaN</td>\n",
       "    </tr>\n",
       "    <tr>\n",
       "      <th>3</th>\n",
       "      <td>1929</td>\n",
       "      <td>1</td>\n",
       "      <td>than lady better visual weeabo jrock j-rock gaga gothic kei japanese</td>\n",
       "      <td>NaN</td>\n",
       "    </tr>\n",
       "    <tr>\n",
       "      <th>4</th>\n",
       "      <td>1984</td>\n",
       "      <td>1</td>\n",
       "      <td>than lady better visual weeabo jrock j-rock gaga gothic kei japanese</td>\n",
       "      <td>NaN</td>\n",
       "    </tr>\n",
       "  </tbody>\n",
       "</table>\n",
       "</div>"
      ],
      "text/plain": [
       "   userID  artistID  \\\n",
       "0     681         1   \n",
       "1    1545         1   \n",
       "2    1730         1   \n",
       "3    1929         1   \n",
       "4    1984         1   \n",
       "\n",
       "                                                               tagValue  \\\n",
       "0  than lady better visual weeabo jrock j-rock gaga gothic kei japanese   \n",
       "1  than lady better visual weeabo jrock j-rock gaga gothic kei japanese   \n",
       "2  than lady better visual weeabo jrock j-rock gaga gothic kei japanese   \n",
       "3  than lady better visual weeabo jrock j-rock gaga gothic kei japanese   \n",
       "4  than lady better visual weeabo jrock j-rock gaga gothic kei japanese   \n",
       "\n",
       "   weight  \n",
       "0     NaN  \n",
       "1     NaN  \n",
       "2     NaN  \n",
       "3     NaN  \n",
       "4     NaN  "
      ]
     },
     "execution_count": 22,
     "metadata": {},
     "output_type": "execute_result"
    }
   ],
   "source": [
    "artist_tags_df['artistID'] = artist_tags_df.index\n",
    "total_table = total_table.drop(\"tagValue\",axis = 1)\n",
    "total_table = pd.merge(artist_tags_df,total_table,how = \"left\")\n",
    "total_table = total_table[[\"userID\",\"artistID\",\"tagID\",\"tagValue\"]]\n",
    "\n",
    "total_table.head()\n",
    "total_table_c = total_table.drop_duplicates(subset = [\"userID\",\"artistID\",\"tagValue\"])\n",
    "if __name__ == '__main__':\n",
    "    total_table_c.drop(\"tagID\",axis = 1,inplace = True)\n",
    "total_table_c.head()\n",
    "total_table = pd.merge(total_table_c,user_artists_df,how=\"left\")\n",
    "total_table.head()"
   ]
  },
  {
   "cell_type": "code",
   "execution_count": 23,
   "metadata": {
    "collapsed": true
   },
   "outputs": [],
   "source": [
    "total_table_c = total_table.fillna(0)\n",
    "artist_df = pd.read_table(artists)\n",
    "\n",
    "artist_df[\"artistID\"] = artist_df[\"id\"]\n",
    "artist_df = artist_df.reindex(columns=['artistID', 'name', 'url', \"pictureURL\", \"id\"])\n",
    "artist_df = artist_df.drop(\"id\",axis = 1)"
   ]
  },
  {
   "cell_type": "code",
   "execution_count": 24,
   "metadata": {
    "collapsed": false
   },
   "outputs": [],
   "source": [
    "total_table_c = pd.merge(total_table_c,artist_df,on = \"artistID\")\n",
    "unique_artistids = sorted(set(total_table_c.artistID))\n",
    "unique_users = sorted(set(total_table_c.userID))\n",
    "artist_ix = {id:ix for (ix,id) in enumerate(unique_artistids)}\n",
    "user_ix = {id:ix for (ix,id) in enumerate(unique_users)}\n",
    "\n",
    "total_table_c[\"artist_ix\"] = total_table_c.artistID.map(artist_ix)\n",
    "total_table_c[\"user_ix\"] = total_table_c.userID.map(user_ix)\n",
    "total_table_c.head()\n",
    "\n",
    "list_total_tag = [\"electronic jazz folk indie rock pop j-pop j-rock k-pop j-pop female vocalists rock dance 80s piano instrument alsmooth jazz swing saxophone singer-songwriter acoustic alternative alternative rockclassic rockhard rock japanese anime Visual Kei death metal dark heavy industrial classical instrumental experimental russian country blues abstract downtempo idm electronica ambient hip-hop 90s\"]\n",
    "combined_tags = [] \n",
    "list_total_tag\n",
    "for i in list(total_table_c.tagValue):\n",
    "    for j in list_total_tag:\n",
    "        combined_tags.append(list(set(i.split()).intersection(set(j.split()))))\n",
    "        \n",
    "len(combined_tags)\n",
    "content = list(map(\" \".join,combined_tags))\n",
    "total_table_c['tags_dealed'] = pd.Series(content)"
   ]
  },
  {
   "cell_type": "code",
   "execution_count": 25,
   "metadata": {
    "collapsed": false
   },
   "outputs": [],
   "source": [
    "def fun(word):\n",
    "    word = \"%s\" % ' '.join(word)\n",
    "    return word\n",
    "\n",
    "total_table_c[total_table_c.userID == 2]\n",
    "all_tags = total_table_c.groupby(\"user_ix\").tags_dealed.apply(fun)\n",
    "total_table_d = pd.DataFrame(all_tags)\n",
    "total_table_d[\"user_ix\"] = total_table_d.index\n",
    "list_none_repeated = list(map(set,list(map(str.split,total_table_d.tags_dealed))))\n",
    "S_none_repeated = pd.Series(list(map(list,list_none_repeated)))\n",
    "total_table_d[\"dealed\"] = pd.Series(list(map(\" \".join,S_none_repeated)))"
   ]
  },
  {
   "cell_type": "code",
   "execution_count": 26,
   "metadata": {
    "collapsed": false
   },
   "outputs": [],
   "source": [
    "# tf-idf\n",
    "from sklearn.feature_extraction.text import TfidfVectorizer\n",
    "from sklearn.metrics.pairwise import linear_kernel\n",
    "from sklearn.metrics.pairwise import cosine_similarity\n",
    "\n",
    "tf = TfidfVectorizer(ngram_range = (1,3),stop_words = 'english')\n",
    "dtm = tf.fit_transform(total_table_d.dealed)"
   ]
  },
  {
   "cell_type": "code",
   "execution_count": 27,
   "metadata": {
    "collapsed": false
   },
   "outputs": [
    {
     "data": {
      "text/plain": [
       "((1891, 100), (100,), (100, 2309))"
      ]
     },
     "execution_count": 27,
     "metadata": {},
     "output_type": "execute_result"
    }
   ],
   "source": [
    "#demension reduction\n",
    "from scipy.sparse.linalg import svds\n",
    "u1,s1,vt1 = svds(dtm , k = 100)\n",
    "u1.shape, s1.shape, vt1.shape"
   ]
  },
  {
   "cell_type": "code",
   "execution_count": 28,
   "metadata": {
    "collapsed": true
   },
   "outputs": [],
   "source": [
    "#Similarity\n",
    "pred = cosine_similarity(u1)"
   ]
  },
  {
   "cell_type": "code",
   "execution_count": 29,
   "metadata": {
    "collapsed": false
   },
   "outputs": [
    {
     "name": "stdout",
     "output_type": "stream",
     "text": [
      "Choose a old user:0~2000 : 1196\n",
      "recommendation result\n",
      "------------------------------\n",
      "['Marillion', 'Pink Floyd', 'Gary Numan', 'Japan', 'It Bites', 'The Human League', 'RealTobacco', 'Riverside', 'The Stranglers', 'Ladytron']\n"
     ]
    }
   ],
   "source": [
    "#Type a old user\n",
    "old_user = input(\"Choose a old user:0~2000 : \")\n",
    "\n",
    "index = pred[int(old_user)].argsort()[-2]\n",
    "#total_table_c[total_table_c[\"user_ix\"] == index]\n",
    "\n",
    "### Tags they have\n",
    "words = \" \".join(total_table_c[total_table_c[\"user_ix\"] == int(old_user)].tags_dealed)\n",
    "list(set(words.split()))\n",
    " \n",
    "words = \" \".join(total_table_c[total_table_c[\"user_ix\"] == index].tags_dealed)\n",
    "list(set(words.split()))\n",
    "\n",
    "#recommend different set of similar user to this old user\n",
    "\n",
    "Series1 = total_table_c[total_table_c.user_ix == int(old_user)][\"name\"]\n",
    "Series2 = total_table_c[total_table_c.user_ix == index][\"name\"]\n",
    "\n",
    "difference = (list(set(Series2).difference(set(Series1)))) #Use weight to rank this difference set\n",
    "\n",
    "total_e = total_table_c[total_table_c.user_ix == int(index)][[\"name\",\"weight\"]]\n",
    "total_e.sort_values(\"weight\",ascending = False)\n",
    "\n",
    "difference_df = pd.DataFrame(difference,columns = [\"name\"])\n",
    "recommendation_result = difference_df.merge(total_e,on = \"name\").sort_values(\"weight\",ascending = False)[0:10]\n",
    "\n",
    "print(\"recommendation result\")\n",
    "print(\"-\"*30)\n",
    "print(list(recommendation_result.name))"
   ]
  },
  {
   "cell_type": "markdown",
   "metadata": {},
   "source": [
    "# 4 Collaborative filtering: User-based model\n",
    "\n",
    "Use user similarity to find user whose tastes are most similiar:\n",
    ">We find users who have the same artists as our target-user often listen to.\n",
    "\n",
    ">We use **euclidean algorithm** to calculate these users' distance and return all distances.\n",
    "\n",
    ">To remove noises and reduce calculations, we find the top three most similar user, and find four artists they mostly listen to, respectively.\n",
    "\n",
    ">We do not use the combination of users' listening frequency on artists, as we regard more higher the similarity, more likely two users have same taste. Moreover, what we want is a system recommend for **niche listeners**, if we do a combination, it would be hard to find some artists only listened by one or two users. So we only **recommend a sets of artists with no rank**. \n",
    "\n",
    ">Finally, we recommend about 12 artists to user."
   ]
  },
  {
   "cell_type": "code",
   "execution_count": 40,
   "metadata": {
    "collapsed": true
   },
   "outputs": [],
   "source": [
    "def similarity_score(person1,person2):\n",
    "    item1 = set(df[df.userID==person1].artistID)\n",
    "    item2 = set(df[df.userID==person2].artistID)\n",
    "    common_items = set.intersection(*[item1, item2])\n",
    "    #find whether there are common artists\n",
    "    if len(common_items)==0:\n",
    "        return 0\n",
    "    #seek the freq data in pairs of users of these common artists\n",
    "    freq1 = [];freq2 = []\n",
    "    for item in common_items: \n",
    "        freq1.append(float(df[(df.userID==person1)&(df.artistID==item)].freq))\n",
    "        freq2.append(float(df[(df.userID==person2)&(df.artistID==item)].freq))\n",
    "    return np.linalg.norm(np.array(freq1)-np.array(freq2))"
   ]
  },
  {
   "cell_type": "code",
   "execution_count": 41,
   "metadata": {
    "collapsed": true
   },
   "outputs": [],
   "source": [
    "#sort users by euclidean distance\n",
    "def most_similar_users(person,number_of_users):\n",
    "    scores_ = {other_person:similarity_score(person,other_person) for other_person in set(df.userID) if other_person != person}\n",
    "    scores = sorted(scores_.items(), key=lambda d: d[1],reverse=True) \n",
    "    return scores[0:number_of_users]"
   ]
  },
  {
   "cell_type": "code",
   "execution_count": 42,
   "metadata": {
    "collapsed": true
   },
   "outputs": [],
   "source": [
    "def user_recommend(person):\n",
    "    recommend=[]\n",
    "    #find the top 3 of the most similar user\n",
    "    similar_users = [i for i, j in most_similar_users(person,3)]\n",
    "    item1 = set(df[df.userID==person].artistID)\n",
    "    for other_user in similar_users:\n",
    "        item2_ = set(df[df.userID==other_user].artistID)\n",
    "        common_items_ = list(set.intersection(*[item1, item2_]))\n",
    "        top_ = df[df.userID==other_user].sort_values('freq',ascending=False).artistID.tolist()\n",
    "        top_2 = filter(lambda x: x not in common_items_ ,top_)\n",
    "        top_2 = list(set(top_).difference(set(common_items_)))\n",
    "        recommend.extend(top_2[0:4])\n",
    "    \n",
    "    recommends = list(set(recommend))\n",
    "    #recommendataions_list = [artist_name.get(r) for r in recommends]\n",
    "    return recommends"
   ]
  },
  {
   "cell_type": "code",
   "execution_count": 33,
   "metadata": {
    "collapsed": false
   },
   "outputs": [
    {
     "name": "stdout",
     "output_type": "stream",
     "text": [
      "Enter YOUR userID (chose a number below 2100):1196\n",
      "------------------------------\n",
      "Artists you like now:\n",
      "['Nirvana', 'Engenheiros do Hawaii', 'Puddle of Mudd', 'Foo Fighters', 'Soundgarden', 'Institute', 'Alice in Chains', 'System of a Down', 'Silverchair', 'Living Colour', 'P.O.D.', 'Bush', 'Paramore', 'Pearl Jam', 'Hoobastank', 'Nullset', 'Nickelback', 'Green Day', 'Alter Bridge', 'Rage Against the Machine', 'Evanescence', 'Red Hot Chili Peppers', 'Limp Bizkit', 'Audioslave', 'Meat Puppets', 'The Pretty Reckless', 'Pouca Vogal', 'Metallica', 'Mudhoney', 'The Offspring', '4 Non Blondes', 'Chevelle', 'Stone Temple Pilots', 'Weezer', 'Humberto Gessinger Trio', 'Capital Inicial', 'Pitty', 'Chris Cornell', 'SoundGarden | www.CdsCompletos.net', 'The Cure']\n",
      "------------------------------\n",
      "We recommend you:\n",
      "Deftones\n",
      "Ill Niño\n",
      "Korn\n",
      "Guano Apes\n",
      "Marilyn Manson\n",
      "Slipknot\n",
      "Bad Religion\n"
     ]
    }
   ],
   "source": [
    "usedID = int(input(\"Enter YOUR userID (chose a number below 2100):\"))\n",
    "\n",
    "print(\"-\"*30)\n",
    "a_now = artist_now(usedID)\n",
    "print(\"Artists you like now:\")\n",
    "print(a_now)\n",
    "\n",
    "print(\"-\"*30)\n",
    "recommendation = user_recommend(usedID)\n",
    "print(\"We recommend you:\")\n",
    "for i in recommendation:\n",
    "    print(artist_name.get(i))"
   ]
  },
  {
   "cell_type": "markdown",
   "metadata": {},
   "source": [
    "# 5  Recommendation System for New User\n",
    ">We create **a dynamic system**, our information would update if users put in their information.\n",
    "\n",
    ">It is more accurate to recommend artists based on new users' preference."
   ]
  },
  {
   "cell_type": "code",
   "execution_count": 34,
   "metadata": {
    "collapsed": false
   },
   "outputs": [
    {
     "name": "stdout",
     "output_type": "stream",
     "text": [
      "Enter a new userID (chose a number over 3000):3002\n"
     ]
    }
   ],
   "source": [
    "userID = input(\"Enter a new userID (chose a number over 3000):\")\n",
    "userID = int(userID)"
   ]
  },
  {
   "cell_type": "code",
   "execution_count": 35,
   "metadata": {
    "collapsed": true
   },
   "outputs": [],
   "source": [
    "#a function to get artists preferences from new user\n",
    "def get_information(count):\n",
    "    new_data = {} \n",
    "    while count>0:\n",
    "        artistID = input(\"Chose artists you like:\")\n",
    "        freq = input(\"How many stars do you want to evaluate this artists(1~5 stars is the highest):\")\n",
    "        artistID = int(artistID)\n",
    "        freq = float(freq)/5\n",
    "        count = count -1 \n",
    "        new_data.update({artistID:freq})\n",
    "    return new_data"
   ]
  },
  {
   "cell_type": "code",
   "execution_count": 36,
   "metadata": {
    "collapsed": false
   },
   "outputs": [
    {
     "name": "stdout",
     "output_type": "stream",
     "text": [
      "Chose artists you like:400\n",
      "How many stars do you want to evaluate this artists(1~5 stars is the highest):5\n",
      "Chose artists you like:500\n",
      "How many stars do you want to evaluate this artists(1~5 stars is the highest):5\n",
      "Chose artists you like:600\n",
      "How many stars do you want to evaluate this artists(1~5 stars is the highest):5\n"
     ]
    }
   ],
   "source": [
    "new_data = get_information(3)"
   ]
  },
  {
   "cell_type": "code",
   "execution_count": 37,
   "metadata": {
    "collapsed": true
   },
   "outputs": [],
   "source": [
    "#### update our data\n",
    "newDF = pd.DataFrame()\n",
    "newDF['userID'] = [i for i in [userID]*3]\n",
    "newDF['artistID'] = [i for i in new_data.keys()]\n",
    "newDF['freq'] = [i for i in new_data.values()]\n",
    "df = df.append(newDF,ignore_index=True)"
   ]
  },
  {
   "cell_type": "code",
   "execution_count": 39,
   "metadata": {
    "collapsed": false
   },
   "outputs": [
    {
     "name": "stdout",
     "output_type": "stream",
     "text": [
      "TOP RECOMMENDATIONS FOR YOU:\n",
      "\n",
      "Enter Shikari\n",
      "Jay Vaquer\n",
      "The Devil Wears Prada\n",
      "Shemales From outta Space of Death\n",
      "Low Shoulder\n",
      "Jessie J\n",
      "Sara Bareilles\n",
      "Kerli\n",
      "Tiffany Thornton\n",
      "Nicki Minaj\n",
      "Boys Like Girls\n"
     ]
    }
   ],
   "source": [
    "your_recommend = user_recommend(3002)\n",
    "print(\"TOP RECOMMENDATIONS FOR YOU:\\n\")\n",
    "\n",
    "for r in your_recommend:\n",
    "    print(artist_name.get(r))"
   ]
  },
  {
   "cell_type": "markdown",
   "metadata": {
    "collapsed": true
   },
   "source": [
    "# 6 Evaluate"
   ]
  },
  {
   "cell_type": "markdown",
   "metadata": {},
   "source": [
    "### Model 1"
   ]
  },
  {
   "cell_type": "code",
   "execution_count": 16,
   "metadata": {
    "collapsed": false
   },
   "outputs": [],
   "source": [
    "from sklearn.model_selection import train_test_split\n",
    "np.random.seed(1234)\n",
    "train,test = train_test_split(df,test_size=0.25)"
   ]
  },
  {
   "cell_type": "code",
   "execution_count": 17,
   "metadata": {
    "collapsed": false
   },
   "outputs": [],
   "source": [
    "m_train = csc_matrix((train.freq,(train.user_ix,train.artist_ix)))\n",
    "u,s,vt = svds(m_train,k=20)\n",
    "pred_train = np.dot(np.dot(u,np.diag(s)),vt)"
   ]
  },
  {
   "cell_type": "code",
   "execution_count": 18,
   "metadata": {
    "collapsed": false
   },
   "outputs": [
    {
     "name": "stderr",
     "output_type": "stream",
     "text": [
      "C:\\ProgramData\\Anaconda3\\lib\\site-packages\\ipykernel\\__main__.py:1: SettingWithCopyWarning: \n",
      "A value is trying to be set on a copy of a slice from a DataFrame.\n",
      "Try using .loc[row_indexer,col_indexer] = value instead\n",
      "\n",
      "See the caveats in the documentation: http://pandas.pydata.org/pandas-docs/stable/indexing.html#indexing-view-versus-copy\n",
      "  if __name__ == '__main__':\n"
     ]
    }
   ],
   "source": [
    "test['pred'] = pred_train[test.user_ix,test.artist_ix]"
   ]
  },
  {
   "cell_type": "code",
   "execution_count": 19,
   "metadata": {
    "collapsed": false
   },
   "outputs": [
    {
     "data": {
      "text/plain": [
       "0.265160565021145"
      ]
     },
     "execution_count": 19,
     "metadata": {},
     "output_type": "execute_result"
    }
   ],
   "source": [
    "math.sqrt(((test.pred - test.freq)**2).mean())"
   ]
  },
  {
   "cell_type": "code",
   "execution_count": null,
   "metadata": {
    "collapsed": true
   },
   "outputs": [],
   "source": []
  },
  {
   "cell_type": "code",
   "execution_count": null,
   "metadata": {
    "collapsed": true
   },
   "outputs": [],
   "source": []
  }
 ],
 "metadata": {
  "kernelspec": {
   "display_name": "Python 3",
   "language": "python",
   "name": "python3"
  },
  "language_info": {
   "codemirror_mode": {
    "name": "ipython",
    "version": 3
   },
   "file_extension": ".py",
   "mimetype": "text/x-python",
   "name": "python",
   "nbconvert_exporter": "python",
   "pygments_lexer": "ipython3",
   "version": "3.6.0"
  }
 },
 "nbformat": 4,
 "nbformat_minor": 2
}
